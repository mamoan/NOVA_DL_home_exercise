{
  "nbformat": 4,
  "nbformat_minor": 0,
  "metadata": {
    "colab": {
      "provenance": [],
      "gpuType": "T4",
      "authorship_tag": "ABX9TyNiP6o7u7dABsxRhvCVE8mr",
      "include_colab_link": true
    },
    "kernelspec": {
      "name": "python3",
      "display_name": "Python 3"
    },
    "language_info": {
      "name": "python"
    }
  },
  "cells": [
    {
      "cell_type": "markdown",
      "metadata": {
        "id": "view-in-github",
        "colab_type": "text"
      },
      "source": [
        "<a href=\"https://colab.research.google.com/github/mamoan/NOVA_DL_home_exercise/blob/main/9_eval_domain_metrics.ipynb\" target=\"_parent\"><img src=\"https://colab.research.google.com/assets/colab-badge.svg\" alt=\"Open In Colab\"/></a>"
      ]
    },
    {
      "cell_type": "code",
      "source": [
        "!pip install geopandas"
      ],
      "metadata": {
        "id": "LIgh8c88GwWv",
        "colab": {
          "base_uri": "https://localhost:8080/"
        },
        "outputId": "1eeb6b58-7dad-45ee-f7f7-f1ef24c21256"
      },
      "execution_count": null,
      "outputs": [
        {
          "output_type": "stream",
          "name": "stdout",
          "text": [
            "Looking in indexes: https://pypi.org/simple, https://us-python.pkg.dev/colab-wheels/public/simple/\n",
            "Requirement already satisfied: geopandas in /usr/local/lib/python3.10/dist-packages (0.13.2)\n",
            "Requirement already satisfied: fiona>=1.8.19 in /usr/local/lib/python3.10/dist-packages (from geopandas) (1.9.4.post1)\n",
            "Requirement already satisfied: packaging in /usr/local/lib/python3.10/dist-packages (from geopandas) (23.1)\n",
            "Requirement already satisfied: pandas>=1.1.0 in /usr/local/lib/python3.10/dist-packages (from geopandas) (1.5.3)\n",
            "Requirement already satisfied: pyproj>=3.0.1 in /usr/local/lib/python3.10/dist-packages (from geopandas) (3.6.0)\n",
            "Requirement already satisfied: shapely>=1.7.1 in /usr/local/lib/python3.10/dist-packages (from geopandas) (2.0.1)\n",
            "Requirement already satisfied: attrs>=19.2.0 in /usr/local/lib/python3.10/dist-packages (from fiona>=1.8.19->geopandas) (23.1.0)\n",
            "Requirement already satisfied: certifi in /usr/local/lib/python3.10/dist-packages (from fiona>=1.8.19->geopandas) (2023.5.7)\n",
            "Requirement already satisfied: click~=8.0 in /usr/local/lib/python3.10/dist-packages (from fiona>=1.8.19->geopandas) (8.1.3)\n",
            "Requirement already satisfied: click-plugins>=1.0 in /usr/local/lib/python3.10/dist-packages (from fiona>=1.8.19->geopandas) (1.1.1)\n",
            "Requirement already satisfied: cligj>=0.5 in /usr/local/lib/python3.10/dist-packages (from fiona>=1.8.19->geopandas) (0.7.2)\n",
            "Requirement already satisfied: six in /usr/local/lib/python3.10/dist-packages (from fiona>=1.8.19->geopandas) (1.16.0)\n",
            "Requirement already satisfied: python-dateutil>=2.8.1 in /usr/local/lib/python3.10/dist-packages (from pandas>=1.1.0->geopandas) (2.8.2)\n",
            "Requirement already satisfied: pytz>=2020.1 in /usr/local/lib/python3.10/dist-packages (from pandas>=1.1.0->geopandas) (2022.7.1)\n",
            "Requirement already satisfied: numpy>=1.21.0 in /usr/local/lib/python3.10/dist-packages (from pandas>=1.1.0->geopandas) (1.22.4)\n"
          ]
        }
      ]
    },
    {
      "cell_type": "code",
      "source": [
        "import geopandas as gpd\n",
        "import numpy as np\n",
        "import matplotlib.pyplot as plt\n",
        "import pandas as pd"
      ],
      "metadata": {
        "id": "jw2gJ5O3G8e4"
      },
      "execution_count": null,
      "outputs": []
    },
    {
      "cell_type": "code",
      "source": [
        "from google.colab import drive\n",
        "drive.mount('/content/drive', force_remount=True)"
      ],
      "metadata": {
        "colab": {
          "base_uri": "https://localhost:8080/"
        },
        "id": "hrH7SjGHHHtL",
        "outputId": "c7548ac2-dad0-4219-ce1c-b13930fcfe2a"
      },
      "execution_count": null,
      "outputs": [
        {
          "output_type": "stream",
          "name": "stdout",
          "text": [
            "Mounted at /content/drive\n"
          ]
        }
      ]
    },
    {
      "cell_type": "code",
      "source": [
        "path_to_predicted_list1 = [\"/content/drive/MyDrive/NOVA_course_home_exercise/data/tiles/10m_galbyveien_20230504_sun\", \"/content/drive/MyDrive/NOVA_course_home_exercise/data/tiles/10m_braatan_40m_20230605_sun\", \"/content/drive/MyDrive/NOVA_course_home_exercise/data/tiles/10m_krakstad_202304_sun\", \"/content/drive/MyDrive/NOVA_course_home_exercise/data/tiles/10m_ortho_hobol_042222_mavic_sun\"]\n",
        "# predictions = [path_to_predicted_list1[0]+\"/galbyveien_20230504_sun_tile_index.shp\", path_to_predicted_list1[1]+\"/braatan_40m_20230605_sun_tile_index.shp\", path_to_predicted_list1[2]+\"/krakstad_202304_sun_tile_index.shp\", path_to_predicted_list1[3]+\"/ortho_hobol_042222_mavic_sun_tile_index.shp\"]\n",
        "predictions = [path_to_predicted_list1[0]+\"/10m_galbyveien_20230504_sun_predictions_AM.shp\", path_to_predicted_list1[1]+\"/10m_braatan_40m_20230605_sun_predictions_AM.shp\", path_to_predicted_list1[2]+\"/10m_krakstad_202304_sun_predictions_AM.shp\", path_to_predicted_list1[3]+\"/10m_ortho_hobol_042222_mavic_sun_predictions_AM.shp\"]\n",
        "predictions_small = [path_to_predicted_list1[0]+\"/10m_galbyveien_20230504_sun_predictions_small_AM.shp\", path_to_predicted_list1[1]+\"/10m_braatan_40m_20230605_sun_predictions_small_AM.shp\", path_to_predicted_list1[2]+\"/10m_krakstad_202304_sun_predictions_small_AM.shp\", path_to_predicted_list1[3]+\"/10m_ortho_hobol_042222_mavic_sun_predictions_small_AM.shp\"]"
      ],
      "metadata": {
        "id": "IbuVW9k3tgSK"
      },
      "execution_count": null,
      "outputs": []
    },
    {
      "cell_type": "code",
      "source": [
        "pred_boxes = [None] * 4"
      ],
      "metadata": {
        "id": "0PYmyummtMPo"
      },
      "execution_count": null,
      "outputs": []
    },
    {
      "cell_type": "code",
      "source": [
        "# Read files\n",
        "pred_boxes = [gpd.read_file(predictions[i]) for i in range(4)]\n",
        "pred_boxes_small = [gpd.read_file(predictions_small[i]) for i in range(4)]\n",
        "ref_boxes = gpd.read_file('/content/drive/MyDrive/NOVA_course_home_exercise/data/map_data/test_annotations2_sun.geojson')\n",
        "\n",
        "# read aois. AOIs were created for the different study sites in QGiS by saving a selection from the test_plots.geojson. This was done in order to get correct per ha values for each site.\n",
        "aois = gpd.read_file('/content/drive/MyDrive/NOVA_course_home_exercise/data/map_data/aois.geojson') # this aoi is only for the area galbyveien\n",
        "aois_braatan = gpd.read_file('/content/drive/MyDrive/NOVA_course_home_exercise/data/map_data/aois_braatan.geojson') # these aois are for areas braatan, krakstad, and hobol\n",
        "aois_krakstad = gpd.read_file('/content/drive/MyDrive/NOVA_course_home_exercise/data/map_data/aois_krakstad.geojson')\n",
        "aois_hobol = gpd.read_file('/content/drive/MyDrive/NOVA_course_home_exercise/data/map_data/aois_hobol.geojson')"
      ],
      "metadata": {
        "id": "Wrq_fX7jGWu8"
      },
      "execution_count": null,
      "outputs": []
    },
    {
      "cell_type": "code",
      "source": [
        "pred_boxes_galby = pred_boxes[0]\n",
        "pred_boxes_braatan = pred_boxes[1]\n",
        "pred_boxes_krakstad = pred_boxes[2]\n",
        "pred_boxes_hobol = pred_boxes[3]\n",
        "\n",
        "pred_boxes_galby_small = pred_boxes_small[0]\n",
        "pred_boxes_braatan_small = pred_boxes_small[1]\n",
        "pred_boxes_krakstad_small = pred_boxes_small[2]\n",
        "pred_boxes_hobol_small = pred_boxes_small[3]"
      ],
      "metadata": {
        "id": "2xjM-QT8wSMI"
      },
      "execution_count": null,
      "outputs": []
    },
    {
      "cell_type": "markdown",
      "source": [
        "# For galbyveien"
      ],
      "metadata": {
        "id": "a4YRwKV8wMoH"
      }
    },
    {
      "cell_type": "markdown",
      "source": [
        "## Full model"
      ],
      "metadata": {
        "id": "QRt7adVGdqRs"
      }
    },
    {
      "cell_type": "code",
      "source": [
        "# Initialize lists to store the number of boxes per hectare for each AOI\n",
        "box_density = []\n",
        "\n",
        "# Compute the number of boxes per hectare for each AOI\n",
        "for aoi in aois.iterrows():\n",
        "    aoi_geom = aoi[1].geometry\n",
        "    pred_within_aoi = pred_boxes_galby[pred_boxes_galby.geometry.within(aoi_geom)]\n",
        "    ref_within_aoi = ref_boxes[ref_boxes.geometry.within(aoi_geom)]\n",
        "\n",
        "    area = aoi_geom.area  # Area in square meters\n",
        "    area_ha = area / 10000  # Convert area to hectares\n",
        "    num_pred_within_aoi = len(pred_within_aoi)\n",
        "    num_ref_within_aoi = len(ref_within_aoi)\n",
        "\n",
        "    pred_density = num_pred_within_aoi / area_ha\n",
        "    ref_density = num_ref_within_aoi / area_ha\n",
        "\n",
        "    box_density.append((pred_density, ref_density))"
      ],
      "metadata": {
        "id": "kzdUc3K8Mj15"
      },
      "execution_count": null,
      "outputs": []
    },
    {
      "cell_type": "code",
      "source": [
        "# Print box density for each AOI\n",
        "for i, aoi in enumerate(aois.iterrows()):\n",
        "    aoi_name = aoi[1]['aoi_name']  # Assuming you have a column 'aoi_name' in your AOIs shapefile\n",
        "    pred_density, ref_density = box_density[i]\n",
        "    print(\"Box density for AOI\"+ str(aoi_name) + \":\")\n",
        "    print(\"Predicted density (boxes/ha):\"+ str(pred_density))\n",
        "    print(\"Reference density (boxes/ha):\"+ str(ref_density))\n",
        "    print()"
      ],
      "metadata": {
        "id": "5DZqM8KUM2r0",
        "colab": {
          "base_uri": "https://localhost:8080/"
        },
        "outputId": "f84de82f-91e0-422a-c9f6-c72d5901e101"
      },
      "execution_count": null,
      "outputs": [
        {
          "output_type": "stream",
          "name": "stdout",
          "text": [
            "Box density for AOInan:\n",
            "Predicted density (boxes/ha):1783.753115909151\n",
            "Reference density (boxes/ha):2294.555144555862\n",
            "\n",
            "Box density for AOInan:\n",
            "Predicted density (boxes/ha):1829.9581842022126\n",
            "Reference density (boxes/ha):2257.5185076139446\n",
            "\n",
            "Box density for AOInan:\n",
            "Predicted density (boxes/ha):1402.511255242128\n",
            "Reference density (boxes/ha):1346.0883886519275\n",
            "\n",
            "Box density for AOInan:\n",
            "Predicted density (boxes/ha):2113.0103428451816\n",
            "Reference density (boxes/ha):2206.2313873824687\n",
            "\n"
          ]
        }
      ]
    },
    {
      "cell_type": "code",
      "source": [
        "# Compute RMSE of box density\n",
        "pred_densities, ref_densities = zip(*box_density)\n",
        "residuals = np.array(pred_densities) - np.array(ref_densities)\n",
        "rmse = np.sqrt(np.mean(np.power(residuals, 2)))\n",
        "bias = np.mean(residuals)\n",
        "\n",
        "rmse_rel= rmse/np.mean(ref_densities)*100\n",
        "bias_rel= bias/np.mean(ref_densities)*100\n",
        "\n",
        "print(\"RMSE of box density (boxes/ha):\"+ str(rmse))\n",
        "print(\"bias of box density (boxes/ha):\"+ str(bias))\n",
        "\n",
        "print(\"RMSE of box density (%):\"+ str(rmse_rel))\n",
        "print(\"bias of box density (%):\"+ str(bias_rel))"
      ],
      "metadata": {
        "id": "MfeOCboTNL3l",
        "colab": {
          "base_uri": "https://localhost:8080/"
        },
        "outputId": "6f80d58c-fd5e-4143-ba96-1dfeb580b90b"
      },
      "execution_count": null,
      "outputs": [
        {
          "output_type": "stream",
          "name": "stdout",
          "text": [
            "RMSE of box density (boxes/ha):337.4908315956224\n",
            "bias of box density (boxes/ha):-243.79013250138246\n",
            "RMSE of box density (%):16.657179076283054\n",
            "bias of box density (%):-12.032492482557192\n"
          ]
        }
      ]
    },
    {
      "cell_type": "markdown",
      "source": [
        "## Small model"
      ],
      "metadata": {
        "id": "lI2uTEBserxq"
      }
    },
    {
      "cell_type": "code",
      "source": [
        "# Initialize lists to store the number of boxes per hectare for each AOI\n",
        "box_density = []\n",
        "\n",
        "# Compute the number of boxes per hectare for each AOI\n",
        "for aoi in aois.iterrows():\n",
        "    aoi_geom = aoi[1].geometry\n",
        "    pred_within_aoi = pred_boxes_galby_small[pred_boxes_galby_small.geometry.within(aoi_geom)]\n",
        "    ref_within_aoi = ref_boxes[ref_boxes.geometry.within(aoi_geom)]\n",
        "\n",
        "    area = aoi_geom.area  # Area in square meters\n",
        "    area_ha = area / 10000  # Convert area to hectares\n",
        "    num_pred_within_aoi = len(pred_within_aoi)\n",
        "    num_ref_within_aoi = len(ref_within_aoi)\n",
        "\n",
        "    pred_density = num_pred_within_aoi / area_ha\n",
        "    ref_density = num_ref_within_aoi / area_ha\n",
        "\n",
        "    box_density.append((pred_density, ref_density))"
      ],
      "metadata": {
        "id": "NITLNyvafARe"
      },
      "execution_count": null,
      "outputs": []
    },
    {
      "cell_type": "code",
      "source": [
        "# Print box density for each AOI\n",
        "for i, aoi in enumerate(aois.iterrows()):\n",
        "    aoi_name = aoi[1]['aoi_name']  # Assuming you have a column 'aoi_name' in your AOIs shapefile\n",
        "    pred_density, ref_density = box_density[i]\n",
        "    print(\"Box density for AOI\"+ str(aoi_name) + \":\")\n",
        "    print(\"Predicted density (boxes/ha):\"+ str(pred_density))\n",
        "    print(\"Reference density (boxes/ha):\"+ str(ref_density))"
      ],
      "metadata": {
        "id": "BnsckI2RfFAT",
        "colab": {
          "base_uri": "https://localhost:8080/"
        },
        "outputId": "4f41854b-3d60-45ed-bf26-b68f7cd54187"
      },
      "execution_count": null,
      "outputs": [
        {
          "output_type": "stream",
          "name": "stdout",
          "text": [
            "Box density for AOInan:\n",
            "Predicted density (boxes/ha):3494.5345134402\n",
            "Reference density (boxes/ha):2294.555144555862\n",
            "Box density for AOInan:\n",
            "Predicted density (boxes/ha):3796.735671896179\n",
            "Reference density (boxes/ha):2257.5185076139446\n",
            "Box density for AOInan:\n",
            "Predicted density (boxes/ha):3417.6136334635767\n",
            "Reference density (boxes/ha):1346.0883886519275\n",
            "Box density for AOInan:\n",
            "Predicted density (boxes/ha):4623.763809049456\n",
            "Reference density (boxes/ha):2206.2313873824687\n"
          ]
        }
      ]
    },
    {
      "cell_type": "code",
      "source": [
        "# Compute RMSE of box density\n",
        "pred_densities, ref_densities = zip(*box_density)\n",
        "residuals = np.array(pred_densities) - np.array(ref_densities)\n",
        "rmse = np.sqrt(np.mean(np.power(residuals, 2)))\n",
        "bias = np.mean(residuals)\n",
        "\n",
        "rmse_rel= rmse/np.mean(ref_densities)*100\n",
        "bias_rel= bias/np.mean(ref_densities)*100\n",
        "\n",
        "print(\"RMSE of box density (boxes/ha):\"+ str(rmse))\n",
        "print(\"bias of box density (boxes/ha):\"+ str(bias))\n",
        "\n",
        "print(\"RMSE of box density (%):\"+ str(rmse_rel))\n",
        "print(\"bias of box density (%):\"+ str(bias_rel))"
      ],
      "metadata": {
        "id": "njt5iCA8fMa6",
        "colab": {
          "base_uri": "https://localhost:8080/"
        },
        "outputId": "71224e74-dd3b-4277-bac9-90e175c35864"
      },
      "execution_count": null,
      "outputs": [
        {
          "output_type": "stream",
          "name": "stdout",
          "text": [
            "RMSE of box density (boxes/ha):1867.1381720611967\n",
            "bias of box density (boxes/ha):1807.063549911302\n",
            "RMSE of box density (%):92.1543697798947\n",
            "bias of box density (%):89.18933000574809\n"
          ]
        }
      ]
    },
    {
      "cell_type": "markdown",
      "source": [
        "# For braatan"
      ],
      "metadata": {
        "id": "_XhSmb2vw80P"
      }
    },
    {
      "cell_type": "markdown",
      "source": [
        "## Full model"
      ],
      "metadata": {
        "id": "g1_YF-yixCKu"
      }
    },
    {
      "cell_type": "code",
      "source": [
        "# Initialize lists to store the number of boxes per hectare for each AOI\n",
        "box_density = []\n",
        "\n",
        "# Compute the number of boxes per hectare for each AOI\n",
        "for aoi in aois_braatan.iterrows():\n",
        "    aoi_geom = aoi[1].geometry\n",
        "    pred_within_aoi = pred_boxes_braatan[pred_boxes_braatan.geometry.within(aoi_geom)]\n",
        "    ref_within_aoi = ref_boxes[ref_boxes.geometry.within(aoi_geom)]\n",
        "\n",
        "    area = aoi_geom.area  # Area in square meters\n",
        "    area_ha = area / 10000  # Convert area to hectares\n",
        "    num_pred_within_aoi = len(pred_within_aoi)\n",
        "    num_ref_within_aoi = len(ref_within_aoi)\n",
        "\n",
        "    pred_density = num_pred_within_aoi / area_ha\n",
        "    ref_density = num_ref_within_aoi / area_ha\n",
        "\n",
        "    box_density.append((pred_density, ref_density))"
      ],
      "metadata": {
        "id": "WViXcHJ42KZ9"
      },
      "execution_count": null,
      "outputs": []
    },
    {
      "cell_type": "code",
      "source": [
        "# Print box density for each AOI\n",
        "for i, aoi in enumerate(aois_braatan.iterrows()):\n",
        "    aoi_name = aoi[1]['aoi_name']  # Assuming you have a column 'aoi_name' in your AOIs shapefile\n",
        "    pred_density, ref_density = box_density[i]\n",
        "    print(\"Box density for AOI\"+ str(aoi_name) + \":\")\n",
        "    print(\"Predicted density (boxes/ha):\"+ str(pred_density))\n",
        "    print(\"Reference density (boxes/ha):\"+ str(ref_density))\n",
        "    print()"
      ],
      "metadata": {
        "colab": {
          "base_uri": "https://localhost:8080/"
        },
        "outputId": "834bcfa9-eae2-4590-cbed-b0b1443cbbd9",
        "id": "mh3TRyGx2NnV"
      },
      "execution_count": null,
      "outputs": [
        {
          "output_type": "stream",
          "name": "stdout",
          "text": [
            "Box density for AOIbraatan2:\n",
            "Predicted density (boxes/ha):592.8515322947363\n",
            "Reference density (boxes/ha):946.650027373853\n",
            "\n",
            "Box density for AOIbraatan2:\n",
            "Predicted density (boxes/ha):581.8922220142953\n",
            "Reference density (boxes/ha):1174.5602259177442\n",
            "\n",
            "Box density for AOIbraatan1:\n",
            "Predicted density (boxes/ha):981.7924773915759\n",
            "Reference density (boxes/ha):2189.2843748731693\n",
            "\n",
            "Box density for AOIbraatan1:\n",
            "Predicted density (boxes/ha):706.7809595698628\n",
            "Reference density (boxes/ha):1531.3587457347028\n",
            "\n"
          ]
        }
      ]
    },
    {
      "cell_type": "code",
      "source": [
        "# Compute RMSE of box density\n",
        "pred_densities, ref_densities = zip(*box_density)\n",
        "residuals = np.array(pred_densities) - np.array(ref_densities)\n",
        "rmse = np.sqrt(np.mean(np.power(residuals, 2)))\n",
        "bias = np.mean(residuals)\n",
        "\n",
        "rmse_rel= rmse/np.mean(ref_densities)*100\n",
        "bias_rel= bias/np.mean(ref_densities)*100\n",
        "\n",
        "print(\"RMSE of box density (boxes/ha):\"+ str(rmse))\n",
        "print(\"bias of box density (boxes/ha):\"+ str(bias))\n",
        "\n",
        "print(\"RMSE of box density (%):\"+ str(rmse_rel))\n",
        "print(\"bias of box density (%):\"+ str(bias_rel))"
      ],
      "metadata": {
        "colab": {
          "base_uri": "https://localhost:8080/"
        },
        "outputId": "2cd56ee3-f016-4917-d61e-92e5a61379b3",
        "id": "he_8flpc2T47"
      },
      "execution_count": null,
      "outputs": [
        {
          "output_type": "stream",
          "name": "stdout",
          "text": [
            "RMSE of box density (boxes/ha):808.4543811946587\n",
            "bias of box density (boxes/ha):-744.6340456572498\n",
            "RMSE of box density (%):55.356020047111244\n",
            "bias of box density (%):-50.98615100366358\n"
          ]
        }
      ]
    },
    {
      "cell_type": "markdown",
      "source": [
        "## Small model"
      ],
      "metadata": {
        "id": "IgcgX8n2fPb_"
      }
    },
    {
      "cell_type": "code",
      "source": [
        "# Initialize lists to store the number of boxes per hectare for each AOI\n",
        "box_density = []\n",
        "\n",
        "# Compute the number of boxes per hectare for each AOI\n",
        "for aoi in aois_braatan.iterrows():\n",
        "    aoi_geom = aoi[1].geometry\n",
        "    pred_within_aoi = pred_boxes_braatan_small[pred_boxes_braatan_small.geometry.within(aoi_geom)]\n",
        "    ref_within_aoi = ref_boxes[ref_boxes.geometry.within(aoi_geom)]\n",
        "\n",
        "    area = aoi_geom.area  # Area in square meters\n",
        "    area_ha = area / 10000  # Convert area to hectares\n",
        "    num_pred_within_aoi = len(pred_within_aoi)\n",
        "    num_ref_within_aoi = len(ref_within_aoi)\n",
        "\n",
        "    pred_density = num_pred_within_aoi / area_ha\n",
        "    ref_density = num_ref_within_aoi / area_ha\n",
        "\n",
        "    box_density.append((pred_density, ref_density))"
      ],
      "metadata": {
        "id": "yPwiWrmDfUbL"
      },
      "execution_count": null,
      "outputs": []
    },
    {
      "cell_type": "code",
      "source": [
        "# Print box density for each AOI\n",
        "for i, aoi in enumerate(aois_braatan.iterrows()):\n",
        "    aoi_name = aoi[1]['aoi_name']  # Assuming you have a column 'aoi_name' in your AOIs shapefile\n",
        "    pred_density, ref_density = box_density[i]\n",
        "    print(\"Box density for AOI\"+ str(aoi_name) + \":\")\n",
        "    print(\"Predicted density (boxes/ha):\"+ str(pred_density))\n",
        "    print(\"Reference density (boxes/ha):\"+ str(ref_density))\n",
        "    print()"
      ],
      "metadata": {
        "colab": {
          "base_uri": "https://localhost:8080/"
        },
        "outputId": "45dad5f8-000a-43ae-9727-9cad775fe34f",
        "id": "SS-2uMchfXsQ"
      },
      "execution_count": null,
      "outputs": [
        {
          "output_type": "stream",
          "name": "stdout",
          "text": [
            "Box density for AOIbraatan2:\n",
            "Predicted density (boxes/ha):1061.3954852373504\n",
            "Reference density (boxes/ha):946.650027373853\n",
            "\n",
            "Box density for AOIbraatan2:\n",
            "Predicted density (boxes/ha):678.8742590166779\n",
            "Reference density (boxes/ha):1174.5602259177442\n",
            "\n",
            "Box density for AOIbraatan1:\n",
            "Predicted density (boxes/ha):2730.9629830892113\n",
            "Reference density (boxes/ha):2189.2843748731693\n",
            "\n",
            "Box density for AOIbraatan1:\n",
            "Predicted density (boxes/ha):1488.523536063802\n",
            "Reference density (boxes/ha):1531.3587457347028\n",
            "\n"
          ]
        }
      ]
    },
    {
      "cell_type": "code",
      "source": [
        "# Compute RMSE of box density\n",
        "pred_densities, ref_densities = zip(*box_density)\n",
        "residuals = np.array(pred_densities) - np.array(ref_densities)\n",
        "rmse = np.sqrt(np.mean(np.power(residuals, 2)))\n",
        "bias = np.mean(residuals)\n",
        "\n",
        "rmse_rel= rmse/np.mean(ref_densities)*100\n",
        "bias_rel= bias/np.mean(ref_densities)*100\n",
        "\n",
        "print(\"RMSE of box density (boxes/ha):\"+ str(rmse))\n",
        "print(\"bias of box density (boxes/ha):\"+ str(bias))\n",
        "\n",
        "print(\"RMSE of box density (%):\"+ str(rmse_rel))\n",
        "print(\"bias of box density (%):\"+ str(bias_rel))"
      ],
      "metadata": {
        "colab": {
          "base_uri": "https://localhost:8080/"
        },
        "outputId": "47429c65-c34c-47e9-d994-647ff0c23849",
        "id": "84-S-6WbfagG"
      },
      "execution_count": null,
      "outputs": [
        {
          "output_type": "stream",
          "name": "stdout",
          "text": [
            "RMSE of box density (boxes/ha):372.1967449042801\n",
            "bias of box density (boxes/ha):29.47572237689309\n",
            "RMSE of box density (%):25.484839901473716\n",
            "bias of box density (%):2.018244587143267\n"
          ]
        }
      ]
    },
    {
      "cell_type": "markdown",
      "source": [
        "# For krakstad"
      ],
      "metadata": {
        "id": "KXus8AOQxGWN"
      }
    },
    {
      "cell_type": "markdown",
      "source": [
        "## Full model"
      ],
      "metadata": {
        "id": "UbSWVRzYgSE7"
      }
    },
    {
      "cell_type": "code",
      "source": [
        "# Initialize lists to store the number of boxes per hectare for each AOI\n",
        "box_density = []\n",
        "\n",
        "# Compute the number of boxes per hectare for each AOI\n",
        "for aoi in aois_krakstad.iterrows():\n",
        "    aoi_geom = aoi[1].geometry\n",
        "    pred_within_aoi = pred_boxes_krakstad[pred_boxes_krakstad.geometry.within(aoi_geom)]\n",
        "    ref_within_aoi = ref_boxes[ref_boxes.geometry.within(aoi_geom)]\n",
        "\n",
        "    area = aoi_geom.area  # Area in square meters\n",
        "    area_ha = area / 10000  # Convert area to hectares\n",
        "    num_pred_within_aoi = len(pred_within_aoi)\n",
        "    num_ref_within_aoi = len(ref_within_aoi)\n",
        "\n",
        "    pred_density = num_pred_within_aoi / area_ha\n",
        "    ref_density = num_ref_within_aoi / area_ha\n",
        "\n",
        "    box_density.append((pred_density, ref_density))"
      ],
      "metadata": {
        "id": "9bWbJDZsbREQ"
      },
      "execution_count": null,
      "outputs": []
    },
    {
      "cell_type": "code",
      "source": [
        "# Print box density for each AOI\n",
        "for i, aoi in enumerate(aois_krakstad.iterrows()):\n",
        "    aoi_name = aoi[1]['aoi_name']  # Assuming you have a column 'aoi_name' in your AOIs shapefile\n",
        "    pred_density, ref_density = box_density[i]\n",
        "    print(\"Box density for AOI\"+ str(aoi_name) + \":\")\n",
        "    print(\"Predicted density (boxes/ha):\"+ str(pred_density))\n",
        "    print(\"Reference density (boxes/ha):\"+ str(ref_density))\n",
        "    print()"
      ],
      "metadata": {
        "colab": {
          "base_uri": "https://localhost:8080/"
        },
        "id": "YAsAWyMjbeMv",
        "outputId": "b6936dda-7377-40de-a78f-7716eb6d7048"
      },
      "execution_count": null,
      "outputs": [
        {
          "output_type": "stream",
          "name": "stdout",
          "text": [
            "Box density for AOIkrakstad:\n",
            "Predicted density (boxes/ha):1169.409727590753\n",
            "Reference density (boxes/ha):1540.1981778024551\n",
            "\n",
            "Box density for AOIkrakstad:\n",
            "Predicted density (boxes/ha):978.0336038503006\n",
            "Reference density (boxes/ha):1316.5836974907893\n",
            "\n",
            "Box density for AOIkrakstad:\n",
            "Predicted density (boxes/ha):1010.0537113038579\n",
            "Reference density (boxes/ha):1246.047569085133\n",
            "\n",
            "Box density for AOIkrakstad:\n",
            "Predicted density (boxes/ha):1068.0225344791468\n",
            "Reference density (boxes/ha):1175.7222858551952\n",
            "\n"
          ]
        }
      ]
    },
    {
      "cell_type": "code",
      "source": [
        "# Compute RMSE of box density\n",
        "pred_densities, ref_densities = zip(*box_density)\n",
        "residuals = np.array(pred_densities) - np.array(ref_densities)\n",
        "rmse = np.sqrt(np.mean(np.power(residuals, 2)))\n",
        "bias = np.mean(residuals)\n",
        "\n",
        "rmse_rel= rmse/np.mean(ref_densities)*100\n",
        "bias_rel= bias/np.mean(ref_densities)*100\n",
        "\n",
        "print(\"RMSE of box density (boxes/ha):\"+ str(rmse))\n",
        "print(\"bias of box density (boxes/ha):\"+ str(bias))\n",
        "\n",
        "print(\"RMSE of box density (%):\"+ str(rmse_rel))\n",
        "print(\"bias of box density (%):\"+ str(bias_rel))"
      ],
      "metadata": {
        "colab": {
          "base_uri": "https://localhost:8080/"
        },
        "id": "0xejctlRbmHa",
        "outputId": "8e5e6675-8c97-4498-e265-7e40eff6fefe"
      },
      "execution_count": null,
      "outputs": [
        {
          "output_type": "stream",
          "name": "stdout",
          "text": [
            "RMSE of box density (boxes/ha):282.5741398603785\n",
            "bias of box density (boxes/ha):-263.25803825237864\n",
            "RMSE of box density (%):21.413005256112154\n",
            "bias of box density (%):-19.949262730118562\n"
          ]
        }
      ]
    },
    {
      "cell_type": "markdown",
      "source": [
        "## Small model"
      ],
      "metadata": {
        "id": "-vh2kDRDxJlL"
      }
    },
    {
      "cell_type": "code",
      "source": [
        "aois_krakstad.iterrows()"
      ],
      "metadata": {
        "colab": {
          "base_uri": "https://localhost:8080/"
        },
        "id": "burVt6uet-Nt",
        "outputId": "5fa5e129-cf41-4909-df72-2bf4f0ea22ac"
      },
      "execution_count": null,
      "outputs": [
        {
          "output_type": "execute_result",
          "data": {
            "text/plain": [
              "<generator object DataFrame.iterrows at 0x7f8aa807f6f0>"
            ]
          },
          "metadata": {},
          "execution_count": 10
        }
      ]
    },
    {
      "cell_type": "code",
      "source": [
        "# Initialize lists to store the number of boxes per hectare for each AOI\n",
        "box_density = []\n",
        "\n",
        "# Compute the number of boxes per hectare for each AOI\n",
        "for aoi in aois_krakstad.iterrows():\n",
        "    aoi_geom = aoi[1].geometry\n",
        "    pred_within_aoi = pred_boxes_krakstad_small[pred_boxes_krakstad_small.geometry.within(aoi_geom)]\n",
        "    ref_within_aoi = ref_boxes[ref_boxes.geometry.within(aoi_geom)]\n",
        "\n",
        "    area = aoi_geom.area  # Area in square meters\n",
        "    area_ha = area / 10000  # Convert area to hectares\n",
        "    num_pred_within_aoi = len(pred_within_aoi)\n",
        "    num_ref_within_aoi = len(ref_within_aoi)\n",
        "\n",
        "    pred_density = num_pred_within_aoi / area_ha\n",
        "    ref_density = num_ref_within_aoi / area_ha\n",
        "\n",
        "    box_density.append((pred_density, ref_density))"
      ],
      "metadata": {
        "id": "5ZfAQI6jfiAd"
      },
      "execution_count": null,
      "outputs": []
    },
    {
      "cell_type": "code",
      "source": [
        "# Print box density for each AOI\n",
        "for i, aoi in enumerate(aois_krakstad.iterrows()):\n",
        "    aoi_name = aoi[1]['aoi_name']  # Assuming you have a column 'aoi_name' in your AOIs shapefile\n",
        "    pred_density, ref_density = box_density[i]\n",
        "    print(\"Box density for AOI\"+ str(aoi_name) + \":\")\n",
        "    print(\"Predicted density (boxes/ha):\"+ str(pred_density))\n",
        "    print(\"Reference density (boxes/ha):\"+ str(ref_density))\n",
        "    print()"
      ],
      "metadata": {
        "colab": {
          "base_uri": "https://localhost:8080/"
        },
        "outputId": "c9ef910e-7d15-4af4-8405-bf720783a9b2",
        "id": "-IsLRZP1fk1z"
      },
      "execution_count": null,
      "outputs": [
        {
          "output_type": "stream",
          "name": "stdout",
          "text": [
            "Box density for AOIkrakstad:\n",
            "Predicted density (boxes/ha):1635.2721393951992\n",
            "Reference density (boxes/ha):1540.1981778024551\n",
            "\n",
            "Box density for AOIkrakstad:\n",
            "Predicted density (boxes/ha):1401.2212209009115\n",
            "Reference density (boxes/ha):1316.5836974907893\n",
            "\n",
            "Box density for AOIkrakstad:\n",
            "Predicted density (boxes/ha):1425.4029009989024\n",
            "Reference density (boxes/ha):1246.047569085133\n",
            "\n",
            "Box density for AOIkrakstad:\n",
            "Predicted density (boxes/ha):1714.221042735437\n",
            "Reference density (boxes/ha):1175.7222858551952\n",
            "\n"
          ]
        }
      ]
    },
    {
      "cell_type": "code",
      "source": [
        "# Compute RMSE of box density\n",
        "pred_densities, ref_densities = zip(*box_density)\n",
        "residuals = np.array(pred_densities) - np.array(ref_densities)\n",
        "rmse = np.sqrt(np.mean(np.power(residuals, 2)))\n",
        "bias = np.mean(residuals)\n",
        "\n",
        "rmse_rel= rmse/np.mean(ref_densities)*100\n",
        "bias_rel= bias/np.mean(ref_densities)*100\n",
        "\n",
        "print(\"RMSE of box density (boxes/ha):\"+ str(rmse))\n",
        "print(\"bias of box density (boxes/ha):\"+ str(bias))\n",
        "\n",
        "print(\"RMSE of box density (%):\"+ str(rmse_rel))\n",
        "print(\"bias of box density (%):\"+ str(bias_rel))"
      ],
      "metadata": {
        "colab": {
          "base_uri": "https://localhost:8080/"
        },
        "outputId": "7cec1725-1891-443a-e5e8-ac75c37883cc",
        "id": "cwuClIMrfoaZ"
      },
      "execution_count": null,
      "outputs": [
        {
          "output_type": "stream",
          "name": "stdout",
          "text": [
            "RMSE of box density (boxes/ha):290.8400826869475\n",
            "bias of box density (boxes/ha):224.39139344921938\n",
            "RMSE of box density (%):22.03938485786729\n",
            "bias of box density (%):17.00401207884271\n"
          ]
        }
      ]
    },
    {
      "cell_type": "markdown",
      "source": [
        "# For hobol"
      ],
      "metadata": {
        "id": "tL3sbL0ZxN8P"
      }
    },
    {
      "cell_type": "markdown",
      "source": [
        "## Full model"
      ],
      "metadata": {
        "id": "6NWKc-nWge5W"
      }
    },
    {
      "cell_type": "code",
      "source": [
        "# Initialize lists to store the number of boxes per hectare for each AOI\n",
        "box_density = []\n",
        "\n",
        "# Compute the number of boxes per hectare for each AOI\n",
        "for aoi in aois_hobol.iterrows():\n",
        "    aoi_geom = aoi[1].geometry\n",
        "    pred_within_aoi = pred_boxes_hobol[pred_boxes_hobol.geometry.within(aoi_geom)]\n",
        "    ref_within_aoi = ref_boxes[ref_boxes.geometry.within(aoi_geom)]\n",
        "\n",
        "    area = aoi_geom.area  # Area in square meters\n",
        "    area_ha = area / 10000  # Convert area to hectares\n",
        "    num_pred_within_aoi = len(pred_within_aoi)\n",
        "    num_ref_within_aoi = len(ref_within_aoi)\n",
        "\n",
        "    pred_density = num_pred_within_aoi / area_ha\n",
        "    ref_density = num_ref_within_aoi / area_ha\n",
        "\n",
        "    box_density.append((pred_density, ref_density))"
      ],
      "metadata": {
        "id": "70Pc7HH0cH9G"
      },
      "execution_count": null,
      "outputs": []
    },
    {
      "cell_type": "code",
      "source": [
        "# Print box density for each AOI\n",
        "for i, aoi in enumerate(aois_hobol.iterrows()):\n",
        "    aoi_name = aoi[1]['aoi_name']  # Assuming you have a column 'aoi_name' in your AOIs shapefile\n",
        "    pred_density, ref_density = box_density[i]\n",
        "    print(\"Box density for AOI\"+ str(aoi_name) + \":\")\n",
        "    print(\"Predicted density (boxes/ha):\"+ str(pred_density))\n",
        "    print(\"Reference density (boxes/ha):\"+ str(ref_density))\n",
        "    print()"
      ],
      "metadata": {
        "id": "KqHCQSiYcLKP",
        "colab": {
          "base_uri": "https://localhost:8080/"
        },
        "outputId": "c1159717-315e-4d3d-96c0-e7482ad9971a"
      },
      "execution_count": null,
      "outputs": [
        {
          "output_type": "stream",
          "name": "stdout",
          "text": [
            "Box density for AOIhobol:\n",
            "Predicted density (boxes/ha):844.2449062194645\n",
            "Reference density (boxes/ha):1029.7932372567095\n",
            "\n",
            "Box density for AOIhobol:\n",
            "Predicted density (boxes/ha):1096.8466479547953\n",
            "Reference density (boxes/ha):1169.3654345964346\n",
            "\n",
            "Box density for AOIhobol:\n",
            "Predicted density (boxes/ha):957.7453301916349\n",
            "Reference density (boxes/ha):1021.5950188710773\n",
            "\n",
            "Box density for AOIhobol:\n",
            "Predicted density (boxes/ha):1032.65237290456\n",
            "Reference density (boxes/ha):1119.5109837096165\n",
            "\n"
          ]
        }
      ]
    },
    {
      "cell_type": "code",
      "source": [
        "# Compute RMSE of box density\n",
        "pred_densities, ref_densities = zip(*box_density)\n",
        "residuals = np.array(pred_densities) - np.array(ref_densities)\n",
        "rmse = np.sqrt(np.mean(np.power(residuals, 2)))\n",
        "bias = np.mean(residuals)\n",
        "\n",
        "rmse_rel= rmse/np.mean(ref_densities)*100\n",
        "bias_rel= bias/np.mean(ref_densities)*100\n",
        "\n",
        "print(\"RMSE of box density (boxes/ha):\"+ str(rmse))\n",
        "print(\"bias of box density (boxes/ha):\"+ str(bias))\n",
        "\n",
        "print(\"RMSE of box density (%):\"+ str(rmse_rel))\n",
        "print(\"bias of box density (%):\"+ str(bias_rel))"
      ],
      "metadata": {
        "id": "MgLX1OpScSsc",
        "colab": {
          "base_uri": "https://localhost:8080/"
        },
        "outputId": "a20b5c41-5620-4d48-d1a5-8e8e7affaf9c"
      },
      "execution_count": null,
      "outputs": [
        {
          "output_type": "stream",
          "name": "stdout",
          "text": [
            "RMSE of box density (boxes/ha):113.25674216368827\n",
            "bias of box density (boxes/ha):-102.19385429084579\n",
            "RMSE of box density (%):10.437772869550814\n",
            "bias of box density (%):-9.418214045130911\n"
          ]
        }
      ]
    },
    {
      "cell_type": "markdown",
      "source": [
        "## Small model"
      ],
      "metadata": {
        "id": "IqPhdSCofr-k"
      }
    },
    {
      "cell_type": "code",
      "source": [
        "# Initialize lists to store the number of boxes per hectare for each AOI\n",
        "box_density = []\n",
        "\n",
        "# Compute the number of boxes per hectare for each AOI\n",
        "for aoi in aois_hobol.iterrows():\n",
        "    aoi_geom = aoi[1].geometry\n",
        "    pred_within_aoi = pred_boxes_hobol_small[pred_boxes_hobol_small.geometry.within(aoi_geom)]\n",
        "    ref_within_aoi = ref_boxes[ref_boxes.geometry.within(aoi_geom)]\n",
        "\n",
        "    area = aoi_geom.area  # Area in square meters\n",
        "    area_ha = area / 10000  # Convert area to hectares\n",
        "    num_pred_within_aoi = len(pred_within_aoi)\n",
        "    num_ref_within_aoi = len(ref_within_aoi)\n",
        "\n",
        "    pred_density = num_pred_within_aoi / area_ha\n",
        "    ref_density = num_ref_within_aoi / area_ha\n",
        "\n",
        "    box_density.append((pred_density, ref_density))"
      ],
      "metadata": {
        "id": "Q_8r78Orft9f"
      },
      "execution_count": null,
      "outputs": []
    },
    {
      "cell_type": "code",
      "source": [
        "# Print box density for each AOI\n",
        "for i, aoi in enumerate(aois_hobol.iterrows()):\n",
        "    aoi_name = aoi[1]['aoi_name']  # Assuming you have a column 'aoi_name' in your AOIs shapefile\n",
        "    pred_density, ref_density = box_density[i]\n",
        "    print(\"Box density for AOI\"+ str(aoi_name) + \":\")\n",
        "    print(\"Predicted density (boxes/ha):\"+ str(pred_density))\n",
        "    print(\"Reference density (boxes/ha):\"+ str(ref_density))\n",
        "    print()"
      ],
      "metadata": {
        "id": "Z8PBZxa5fwOh",
        "colab": {
          "base_uri": "https://localhost:8080/"
        },
        "outputId": "408fa806-36eb-4ce6-eaef-b4a986a65bae"
      },
      "execution_count": null,
      "outputs": [
        {
          "output_type": "stream",
          "name": "stdout",
          "text": [
            "Box density for AOIhobol:\n",
            "Predicted density (boxes/ha):927.7416551862248\n",
            "Reference density (boxes/ha):1029.7932372567095\n",
            "\n",
            "Box density for AOIhobol:\n",
            "Predicted density (boxes/ha):1223.7545245776641\n",
            "Reference density (boxes/ha):1169.3654345964346\n",
            "\n",
            "Box density for AOIhobol:\n",
            "Predicted density (boxes/ha):1295.236541782973\n",
            "Reference density (boxes/ha):1021.5950188710773\n",
            "\n",
            "Box density for AOIhobol:\n",
            "Predicted density (boxes/ha):1573.1059512471336\n",
            "Reference density (boxes/ha):1119.5109837096165\n",
            "\n"
          ]
        }
      ]
    },
    {
      "cell_type": "code",
      "source": [
        "# Compute RMSE of box density\n",
        "pred_densities, ref_densities = zip(*box_density)\n",
        "residuals = np.array(pred_densities) - np.array(ref_densities)\n",
        "rmse = np.sqrt(np.mean(np.power(residuals, 2)))\n",
        "bias = np.mean(residuals)\n",
        "\n",
        "rmse_rel= rmse/np.mean(ref_densities)*100\n",
        "bias_rel= bias/np.mean(ref_densities)*100\n",
        "\n",
        "print(\"RMSE of box density (boxes/ha):\"+ str(rmse))\n",
        "print(\"bias of box density (boxes/ha):\"+ str(bias))\n",
        "\n",
        "print(\"RMSE of box density (%):\"+ str(rmse_rel))\n",
        "print(\"bias of box density (%):\"+ str(bias_rel))"
      ],
      "metadata": {
        "id": "KOr_sBS3fy3Z",
        "colab": {
          "base_uri": "https://localhost:8080/"
        },
        "outputId": "a94fd0a1-7383-4e79-e324-7cba1b250b01"
      },
      "execution_count": null,
      "outputs": [
        {
          "output_type": "stream",
          "name": "stdout",
          "text": [
            "RMSE of box density (boxes/ha):271.1091920928622\n",
            "bias of box density (boxes/ha):169.8934995900394\n",
            "RMSE of box density (%):24.98549857475932\n",
            "bias of box density (%):15.65743219216934\n"
          ]
        }
      ]
    },
    {
      "cell_type": "markdown",
      "source": [
        "# Making a scatterplot of predicted vs reference\n",
        "\n"
      ],
      "metadata": {
        "id": "uNhFPF_Rr175"
      }
    },
    {
      "cell_type": "markdown",
      "source": [
        "## Galbyveien"
      ],
      "metadata": {
        "id": "-kP70mtTNr6x"
      }
    },
    {
      "cell_type": "code",
      "source": [
        "for aoi in aois.iterrows():\n",
        "    aoi_geom = aoi[1].geometry\n",
        "    pred_within_aoi = pred_boxes_galby[pred_boxes_galby.geometry.within(aoi_geom)]\n",
        "    pred_within_aoi_small = pred_boxes_galby_small[pred_boxes_galby_small.geometry.within(aoi_geom)]\n",
        "    ref_within_aoi = ref_boxes[ref_boxes.geometry.within(aoi_geom)]"
      ],
      "metadata": {
        "id": "7FbI8h-HOHSW"
      },
      "execution_count": null,
      "outputs": []
    },
    {
      "cell_type": "code",
      "source": [
        "pred_within_aoi = pred_within_aoi.assign(category = \"prediction\", model = \"full\")\n",
        "pred_within_aoi_small = pred_within_aoi_small.assign(category = \"prediction_small\", model = \"small\")\n",
        "ref_within_aoi = ref_within_aoi.assign(category = \"reference\", model = \"\")"
      ],
      "metadata": {
        "id": "y7D42r7JOJm-"
      },
      "execution_count": null,
      "outputs": []
    },
    {
      "cell_type": "code",
      "source": [
        "df_galby_full = pd.concat([pred_within_aoi, ref_within_aoi])\n",
        "df_galby_small = pd.concat([pred_within_aoi_small, ref_within_aoi])"
      ],
      "metadata": {
        "id": "wikh_8ZXONPy"
      },
      "execution_count": null,
      "outputs": []
    },
    {
      "cell_type": "code",
      "source": [
        "# Scatter plot with colored points based on the attribute column\n",
        "df_galby_full.plot(column = \"category\", markersize = 1, cmap = \"Set1\", legend = True)\n",
        "\n",
        "# Show the plot\n",
        "plt.show()"
      ],
      "metadata": {
        "colab": {
          "base_uri": "https://localhost:8080/",
          "height": 463
        },
        "outputId": "bdc63a39-2d1f-4d69-aa57-742555ab60da",
        "id": "AYHkiA3mOQXV"
      },
      "execution_count": null,
      "outputs": [
        {
          "output_type": "display_data",
          "data": {
            "text/plain": [
              "<Figure size 640x480 with 1 Axes>"
            ],
            "image/png": "[encoded data removed]"
          },
          "metadata": {}
        }
      ]
    },
    {
      "cell_type": "code",
      "source": [
        "# Scatter plot with colored points based on the attribute column\n",
        "df_galby_small.plot(column = \"category\", markersize = 1, cmap = \"Set1\", legend = True)\n",
        "\n",
        "# Show the plot\n",
        "plt.show()"
      ],
      "metadata": {
        "colab": {
          "base_uri": "https://localhost:8080/",
          "height": 463
        },
        "outputId": "7b73c1d1-456e-4235-e1d6-3f02c5474bf1",
        "id": "0pFOSeOoOVx5"
      },
      "execution_count": null,
      "outputs": [
        {
          "output_type": "display_data",
          "data": {
            "text/plain": [
              "<Figure size 640x480 with 1 Axes>"
            ],
            "image/png": "[encoded data removed]"
          },
          "metadata": {}
        }
      ]
    },
    {
      "cell_type": "markdown",
      "source": [
        "## Braatan"
      ],
      "metadata": {
        "id": "3L0JKkcSNuCt"
      }
    },
    {
      "cell_type": "code",
      "source": [
        "for aoi in aois_braatan.iterrows():\n",
        "    aoi_geom = aoi[1].geometry\n",
        "    pred_within_aoi = pred_boxes_braatan[pred_boxes_braatan.geometry.within(aoi_geom)]\n",
        "    pred_within_aoi_small = pred_boxes_braatan_small[pred_boxes_braatan_small.geometry.within(aoi_geom)]\n",
        "    ref_within_aoi = ref_boxes[ref_boxes.geometry.within(aoi_geom)]"
      ],
      "metadata": {
        "id": "5do71SsbOHlm"
      },
      "execution_count": null,
      "outputs": []
    },
    {
      "cell_type": "code",
      "source": [
        "pred_within_aoi = pred_within_aoi.assign(category = \"prediction\", model = \"full\")\n",
        "pred_within_aoi_small = pred_within_aoi_small.assign(category = \"prediction_small\", model = \"small\")\n",
        "ref_within_aoi = ref_within_aoi.assign(category = \"reference\", model = \"\")"
      ],
      "metadata": {
        "id": "F3WVtBtsOJYf"
      },
      "execution_count": null,
      "outputs": []
    },
    {
      "cell_type": "code",
      "source": [
        "df_braatan_full = pd.concat([pred_within_aoi, ref_within_aoi])\n",
        "df_braatan_small = pd.concat([pred_within_aoi_small, ref_within_aoi])"
      ],
      "metadata": {
        "id": "QcIqFLspOMfD"
      },
      "execution_count": null,
      "outputs": []
    },
    {
      "cell_type": "code",
      "source": [
        "# Scatter plot with colored points based on the attribute column\n",
        "df_braatan_full.plot(column = \"category\", markersize = 1, cmap = \"Set1\", legend = True)\n",
        "\n",
        "# Show the plot\n",
        "plt.show()"
      ],
      "metadata": {
        "colab": {
          "base_uri": "https://localhost:8080/",
          "height": 445
        },
        "outputId": "5cd3db37-0246-4952-94c7-87e1e5e4079c",
        "id": "SXri4Z-COPhy"
      },
      "execution_count": null,
      "outputs": [
        {
          "output_type": "display_data",
          "data": {
            "text/plain": [
              "<Figure size 640x480 with 1 Axes>"
            ],
            "image/png": "[encoded data removed]"
          },
          "metadata": {}
        }
      ]
    },
    {
      "cell_type": "code",
      "source": [
        "# Scatter plot with colored points based on the attribute column\n",
        "df_braatan_small.plot(column = \"category\", markersize = 1, cmap = \"Set1\", legend = True)\n",
        "\n",
        "# Show the plot\n",
        "plt.show()"
      ],
      "metadata": {
        "colab": {
          "base_uri": "https://localhost:8080/",
          "height": 445
        },
        "outputId": "8034e2a1-ef00-4632-b38f-e0785cd9a7c4",
        "id": "oZ7xQx5rOT_P"
      },
      "execution_count": null,
      "outputs": [
        {
          "output_type": "display_data",
          "data": {
            "text/plain": [
              "<Figure size 640x480 with 1 Axes>"
            ],
            "image/png": "[encoded data removed]"
          },
          "metadata": {}
        }
      ]
    },
    {
      "cell_type": "markdown",
      "source": [
        "## Krakstad"
      ],
      "metadata": {
        "id": "335McdoFNvh_"
      }
    },
    {
      "cell_type": "code",
      "source": [
        "for aoi in aois_krakstad.iterrows():\n",
        "    aoi_geom = aoi[1].geometry\n",
        "    pred_within_aoi = pred_boxes_krakstad[pred_boxes_krakstad.geometry.within(aoi_geom)]\n",
        "    pred_within_aoi_small = pred_boxes_krakstad_small[pred_boxes_krakstad_small.geometry.within(aoi_geom)]\n",
        "    ref_within_aoi = ref_boxes[ref_boxes.geometry.within(aoi_geom)]"
      ],
      "metadata": {
        "id": "bAF1rH31N5sf"
      },
      "execution_count": null,
      "outputs": []
    },
    {
      "cell_type": "code",
      "source": [
        "pred_within_aoi = pred_within_aoi.assign(category = \"prediction\", model = \"full\")\n",
        "pred_within_aoi_small = pred_within_aoi_small.assign(category = \"prediction_small\", model = \"small\")\n",
        "ref_within_aoi = ref_within_aoi.assign(category = \"reference\", model = \"\")"
      ],
      "metadata": {
        "id": "87_RHuRIN8SX"
      },
      "execution_count": null,
      "outputs": []
    },
    {
      "cell_type": "code",
      "source": [
        "df_krakstad_full = pd.concat([pred_within_aoi, ref_within_aoi])\n",
        "df_krakstad_small = pd.concat([pred_within_aoi_small, ref_within_aoi])"
      ],
      "metadata": {
        "id": "SuDOodowN-c5"
      },
      "execution_count": null,
      "outputs": []
    },
    {
      "cell_type": "code",
      "source": [
        "# Scatter plot with colored points based on the attribute column\n",
        "df_krakstad_full.plot(column = \"category\", markersize = 1, cmap = \"Set1\", legend = True)\n",
        "\n",
        "# Show the plot\n",
        "plt.show()"
      ],
      "metadata": {
        "colab": {
          "base_uri": "https://localhost:8080/",
          "height": 463
        },
        "outputId": "c141ca54-2497-474c-f9ea-c3233f68f433",
        "id": "2wjY44w-OBA6"
      },
      "execution_count": null,
      "outputs": [
        {
          "output_type": "display_data",
          "data": {
            "text/plain": [
              "<Figure size 640x480 with 1 Axes>"
            ],
            "image/png": "[encoded data removed]"
          },
          "metadata": {}
        }
      ]
    },
    {
      "cell_type": "code",
      "source": [
        "# Scatter plot with colored points based on the attribute column\n",
        "df_krakstad_small.plot(column = \"category\", markersize = 1, cmap = \"Set1\", legend = True)\n",
        "\n",
        "# Show the plot\n",
        "plt.show()"
      ],
      "metadata": {
        "colab": {
          "base_uri": "https://localhost:8080/",
          "height": 463
        },
        "outputId": "98825919-0837-4111-9eba-a3ffbe50cb42",
        "id": "zlyzKvpROEs8"
      },
      "execution_count": null,
      "outputs": [
        {
          "output_type": "display_data",
          "data": {
            "text/plain": [
              "<Figure size 640x480 with 1 Axes>"
            ],
            "image/png": "[encoded data removed]"
          },
          "metadata": {}
        }
      ]
    },
    {
      "cell_type": "markdown",
      "source": [
        "## Hobol"
      ],
      "metadata": {
        "id": "OxG2OFHzNqEG"
      }
    },
    {
      "cell_type": "code",
      "source": [
        "for aoi in aois_hobol.iterrows():\n",
        "    aoi_geom = aoi[1].geometry\n",
        "    pred_within_aoi = pred_boxes_hobol[pred_boxes_hobol.geometry.within(aoi_geom)]\n",
        "    pred_within_aoi_small = pred_boxes_hobol_small[pred_boxes_hobol_small.geometry.within(aoi_geom)]\n",
        "    ref_within_aoi = ref_boxes[ref_boxes.geometry.within(aoi_geom)]"
      ],
      "metadata": {
        "id": "Keyq0vfD0W97"
      },
      "execution_count": null,
      "outputs": []
    },
    {
      "cell_type": "code",
      "source": [
        "pred_within_aoi = pred_within_aoi.assign(category = \"prediction\", model = \"full\")\n",
        "pred_within_aoi_small = pred_within_aoi_small.assign(category = \"prediction_small\", model = \"small\")\n",
        "ref_within_aoi = ref_within_aoi.assign(category = \"reference\", model = \"\")"
      ],
      "metadata": {
        "id": "lyK7pzXw3Ak4"
      },
      "execution_count": null,
      "outputs": []
    },
    {
      "cell_type": "code",
      "source": [
        "df_hobol_full = pd.concat([pred_within_aoi, ref_within_aoi])\n",
        "df_hobol_small = pd.concat([pred_within_aoi_small, ref_within_aoi])"
      ],
      "metadata": {
        "id": "uHonWOEA4uJN"
      },
      "execution_count": null,
      "outputs": []
    },
    {
      "cell_type": "code",
      "source": [
        "# Scatter plot with colored points based on the attribute column\n",
        "df_hobol_full.plot(column = \"category\", markersize = 1, cmap = \"Set1\", legend = True)\n",
        "\n",
        "# Show the plot\n",
        "plt.show()"
      ],
      "metadata": {
        "colab": {
          "base_uri": "https://localhost:8080/",
          "height": 463
        },
        "id": "j8MUC_E55CZV",
        "outputId": "ac6c8169-b169-4fa0-bea1-9afa5e530458"
      },
      "execution_count": null,
      "outputs": [
        {
          "output_type": "display_data",
          "data": {
            "text/plain": [
              "<Figure size 640x480 with 1 Axes>"
            ],
            "image/png": "[encoded data removed]"
          },
          "metadata": {}
        }
      ]
    },
    {
      "cell_type": "code",
      "source": [
        "# Scatter plot with colored points based on the attribute column\n",
        "df_hobol_small.plot(column = \"category\", markersize = 1, cmap = \"Set1\", legend = True)\n",
        "\n",
        "# Show the plot\n",
        "plt.show()"
      ],
      "metadata": {
        "colab": {
          "base_uri": "https://localhost:8080/",
          "height": 463
        },
        "id": "ijHQa0zuMFN6",
        "outputId": "adebaa04-4dec-4298-ebe3-5c437d02b0ba"
      },
      "execution_count": null,
      "outputs": [
        {
          "output_type": "display_data",
          "data": {
            "text/plain": [
              "<Figure size 640x480 with 1 Axes>"
            ],
            "image/png": "[encoded data removed]"
          },
          "metadata": {}
        }
      ]
    }
  ]
}