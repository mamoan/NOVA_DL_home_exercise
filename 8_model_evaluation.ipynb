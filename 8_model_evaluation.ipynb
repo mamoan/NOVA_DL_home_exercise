{
  "nbformat": 4,
  "nbformat_minor": 0,
  "metadata": {
    "colab": {
      "provenance": [],
      "include_colab_link": true
    },
    "kernelspec": {
      "name": "python3",
      "display_name": "Python 3"
    },
    "language_info": {
      "name": "python"
    }
  },
  "cells": [
    {
      "cell_type": "markdown",
      "metadata": {
        "id": "view-in-github",
        "colab_type": "text"
      },
      "source": [
        "<a href=\"https://colab.research.google.com/github/mamoan/NOVA_DL_home_exercise/blob/main/8_model_evaluation.ipynb\" target=\"_parent\"><img src=\"https://colab.research.google.com/assets/colab-badge.svg\" alt=\"Open In Colab\"/></a>"
      ]
    },
    {
      "cell_type": "markdown",
      "source": [
        "# 7 - Model evaluation\n",
        "#   🗺️ --> 📈 🎯"
      ],
      "metadata": {
        "id": "AO_zYDMid4vq"
      }
    },
    {
      "cell_type": "markdown",
      "source": [
        "**OBJECTIVE:** Evaluating the model's performance on new data (i.e. test data) for which we have high quality annotations."
      ],
      "metadata": {
        "id": "SjszZRFCeHee"
      }
    },
    {
      "cell_type": "code",
      "source": [
        "annotator_ID=8\n",
        "path_to_model_small=\"/content/drive/MyDrive/NOVA_course_home_exercise/data/annotated_data/train/\"+str(annotator_ID)+\"/seedlings_YOLOs_img1056_autobatch_small/weights/best.pt\"\n",
        "path_to_model_full=\"/content/drive/MyDrive/NOVA_course_home_exercise/data/annotated_data/train/full_data/seedlings_YOLOs_img640_full/weights/best.pt\"\n",
        "\n",
        "path_to_yaml_small = \"/content/drive/MyDrive/NOVA_course_home_exercise/data/annotated_data/train/\"+str(annotator_ID)+\"/train_config.yaml\"\n",
        "path_to_yaml_full = \"/content/drive/MyDrive/NOVA_course_home_exercise/data/annotated_data/train/full_data/train_config.yaml\"\n",
        "\n",
        "#path_to_tile_index=path_to_predicted+ \"/krakstad_202304_sun_tile_index.shp\"#+os.path.basename(path_to_predicted)+\".shp\"\n",
        "#buffer_size_m=1"
      ],
      "metadata": {
        "id": "IpbT8bbOeCxz"
      },
      "execution_count": null,
      "outputs": []
    },
    {
      "cell_type": "markdown",
      "source": [
        "## 7.1 load required libraries"
      ],
      "metadata": {
        "id": "0ZRTcFckbTW8"
      }
    },
    {
      "cell_type": "code",
      "source": [
        "!pip install geopandas\n",
        "%pip install ultralytics\n",
        "import ultralytics\n",
        "ultralytics.checks()\n",
        "\n",
        "# general libraries\n",
        "import os, glob\n",
        "from pathlib import Path\n",
        "\n",
        "# Geospatial libraries\n",
        "import geopandas as gpd\n",
        "from osgeo import gdal, osr\n",
        "from shapely.geometry import Polygon\n"
      ],
      "metadata": {
        "colab": {
          "base_uri": "https://localhost:8080/"
        },
        "id": "UqqYchHzeoRG",
        "outputId": "e88579a7-499d-434b-f7c4-d6cb9800556e"
      },
      "execution_count": null,
      "outputs": [
        {
          "output_type": "stream",
          "name": "stderr",
          "text": [
            "Ultralytics YOLOv8.0.118 🚀 Python-3.10.12 torch-2.0.1+cu118 CPU\n",
            "Setup complete ✅ (2 CPUs, 12.7 GB RAM, 24.2/107.7 GB disk)\n"
          ]
        }
      ]
    },
    {
      "cell_type": "code",
      "source": [
        "# mount google drive\n",
        "from google.colab import drive\n",
        "drive.mount('/content/drive', force_remount=True)"
      ],
      "metadata": {
        "id": "Gn44NN6Kfvfh",
        "colab": {
          "base_uri": "https://localhost:8080/"
        },
        "outputId": "91773bb1-34c7-4543-f3d2-4e9f57a8a54c"
      },
      "execution_count": null,
      "outputs": [
        {
          "output_type": "stream",
          "name": "stdout",
          "text": [
            "Mounted at /content/drive\n"
          ]
        }
      ]
    },
    {
      "cell_type": "markdown",
      "source": [
        "## 7.2 Validate using YOLOv8 builtin \"val\" function\n",
        "this provides a standard method for validation of bounding box detectors\n",
        "\n"
      ],
      "metadata": {
        "id": "_YQBEl-ZfAz3"
      }
    },
    {
      "cell_type": "code",
      "source": [
        "!yolo val model=$path_to_model_full data=$path_to_yaml_full split='test' imgsz=640 project=\"/content/drive/MyDrive/NOVA_course_home_exercise/data/testing\" name=\"test_eval_full\" conf=0.220"
      ],
      "metadata": {
        "id": "H-R6ktzFfY8D"
      },
      "execution_count": null,
      "outputs": []
    },
    {
      "cell_type": "code",
      "source": [
        "path_to_yaml_small"
      ],
      "metadata": {
        "colab": {
          "base_uri": "https://localhost:8080/",
          "height": 35
        },
        "id": "DZXpFMRY2-Qf",
        "outputId": "819f8673-7f3f-46f2-86e3-41a50411a9e7"
      },
      "execution_count": null,
      "outputs": [
        {
          "output_type": "execute_result",
          "data": {
            "text/plain": [
              "'/content/drive/MyDrive/NOVA_course_home_exercise/data/annotated_data/train/8/train_config.yaml'"
            ],
            "application/vnd.google.colaboratory.intrinsic+json": {
              "type": "string"
            }
          },
          "metadata": {},
          "execution_count": 12
        }
      ]
    },
    {
      "cell_type": "code",
      "source": [
        "!yolo val model=$path_to_model_small data=$path_to_yaml_small split='test' imgsz=1056 project=\"/content/drive/MyDrive/NOVA_course_home_exercise/data/testing1\" name=\"test_eval_small\" conf=0.471"
      ],
      "metadata": {
        "id": "AhDJplu-qlmM"
      },
      "execution_count": null,
      "outputs": []
    }
  ]
}