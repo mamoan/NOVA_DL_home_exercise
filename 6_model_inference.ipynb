{
  "cells": [
    {
      "cell_type": "markdown",
      "metadata": {
        "id": "view-in-github",
        "colab_type": "text"
      },
      "source": [
        "<a href=\"https://colab.research.google.com/github/mamoan/NOVA_DL_home_exercise/blob/main/6_model_inference.ipynb\" target=\"_parent\"><img src=\"https://colab.research.google.com/assets/colab-badge.svg\" alt=\"Open In Colab\"/></a>"
      ]
    },
    {
      "cell_type": "markdown",
      "metadata": {
        "id": "AO_zYDMid4vq"
      },
      "source": [
        "# 5 - Model inference\n",
        "#   💻🧠+🖼️ --> 📝"
      ]
    },
    {
      "cell_type": "markdown",
      "metadata": {
        "id": "XkDHBxMYHuYz"
      },
      "source": [
        "Now, I will predict using the best models trained on the small and full datasets.\n"
      ]
    },
    {
      "cell_type": "markdown",
      "metadata": {
        "id": "DNuRNz-DXUap"
      },
      "source": [
        "\n",
        "For the small dataset, the best model was the small model (Yolos) with an image size of 1056, and the autobatch option enabled.\n",
        "\n",
        "F-score = 0.51,\n",
        "Area under P-R curve = 0.481\n",
        "\n",
        "For the full dataset, the best model was the small model (Yolos) with an image size of 640.\n",
        "\n",
        "F-score = 0.43,\n",
        "Area under P-R curve = 0.34"
      ]
    },
    {
      "cell_type": "code",
      "execution_count": null,
      "metadata": {
        "id": "IpbT8bbOeCxz"
      },
      "outputs": [],
      "source": [
        "import os\n",
        "annotator_ID=8 # change this to your folder ID\n",
        "\n",
        "path_to_ortho_predict1= \"/content/drive/MyDrive/NOVA_course_home_exercise/data/orthomosaics/test_data/krakstad_202304_sun.tif\"\n",
        "path_to_ortho_predict2= \"/content/drive/MyDrive/NOVA_course_home_exercise/data/orthomosaics/test_data/ortho_hobol_042222_mavic_sun.tif\"\n",
        "path_to_ortho_predict3= \"/content/drive/MyDrive/NOVA_course_home_exercise/data/orthomosaics/test_data/galbyveien_20230504_sun.tif\"\n",
        "path_to_ortho_predict4= \"/content/drive/MyDrive/NOVA_course_home_exercise/data/orthomosaics/test_data/braatan_40m_20230605_sun.tif\"\n",
        "\n",
        "path_to_tiles1=\"/content/drive/MyDrive/NOVA_course_home_exercise/data/tiles/10m_\"+str(os.path.splitext( os.path.basename(path_to_ortho_predict1))[0])\n",
        "path_to_tiles2=\"/content/drive/MyDrive/NOVA_course_home_exercise/data/tiles/10m_\"+str(os.path.splitext( os.path.basename(path_to_ortho_predict2))[0])\n",
        "path_to_tiles3=\"/content/drive/MyDrive/NOVA_course_home_exercise/data/tiles/10m_\"+str(os.path.splitext( os.path.basename(path_to_ortho_predict3))[0])\n",
        "path_to_tiles4=\"/content/drive/MyDrive/NOVA_course_home_exercise/data/tiles/10m_\"+str(os.path.splitext( os.path.basename(path_to_ortho_predict4))[0])\n",
        "# I don't have tiles for the other tif-files\n",
        "\n",
        "path_to_model_small=\"/content/drive/MyDrive/NOVA_course_home_exercise/data/annotated_data/train/\"+str(annotator_ID)+\"/seedlings_YOLOs_img1056_autobatch_small/weights/best.pt\"\n",
        "path_to_model_full=\"/content/drive/MyDrive/NOVA_course_home_exercise/data/annotated_data/train/full_data/seedlings_YOLOs_img640_full/weights/best.pt\""
      ]
    },
    {
      "cell_type": "code",
      "execution_count": null,
      "metadata": {
        "colab": {
          "base_uri": "https://localhost:8080/",
          "height": 35
        },
        "id": "9D9I9xxDqxTG",
        "outputId": "2dc334e9-6f6b-41b3-9787-17cd00259323"
      },
      "outputs": [
        {
          "output_type": "execute_result",
          "data": {
            "text/plain": [
              "'/content/drive/MyDrive/NOVA_course_home_exercise/data/tiles/10m_ortho_hobol_042222_mavic_sun'"
            ],
            "application/vnd.google.colaboratory.intrinsic+json": {
              "type": "string"
            }
          },
          "metadata": {},
          "execution_count": 2
        }
      ],
      "source": [
        "path_to_tiles2"
      ]
    },
    {
      "cell_type": "markdown",
      "metadata": {
        "id": "53OLEofzfi1h"
      },
      "source": [
        "## 5.2 Setup YOLOv8 and import other libraries"
      ]
    },
    {
      "cell_type": "code",
      "execution_count": null,
      "metadata": {
        "colab": {
          "base_uri": "https://localhost:8080/"
        },
        "id": "7nxzRp4Gd9TV",
        "outputId": "04c76adf-7783-41c2-997f-532c861f9a91"
      },
      "outputs": [
        {
          "output_type": "stream",
          "name": "stderr",
          "text": [
            "Ultralytics YOLOv8.0.118 🚀 Python-3.10.12 torch-2.0.1+cu118 CPU\n",
            "Setup complete ✅ (2 CPUs, 12.7 GB RAM, 24.1/107.7 GB disk)\n"
          ]
        }
      ],
      "source": [
        "%pip install ultralytics\n",
        "import ultralytics\n",
        "ultralytics.checks()"
      ]
    },
    {
      "cell_type": "code",
      "execution_count": null,
      "metadata": {
        "id": "WHa3S9-GPfc1"
      },
      "outputs": [],
      "source": [
        "# other libraries\n",
        "!pip install geopandas\n",
        "!pip install rasterio\n",
        "!pip install folium matplotlib mapclassify\n",
        "# general python packages\n",
        "import os, glob, shutil\n",
        "from pathlib import Path\n",
        "from datetime import datetime, timedelta\n",
        "import numpy as np\n",
        "import pandas as pd\n",
        "import matplotlib.pyplot as plt\n",
        "import folium\n",
        "#import warnings\n",
        "#warnings.filterwarnings(\"ignore\")\n",
        "#import sys\n",
        "\n",
        "# geospatial packages\n",
        "from osgeo import gdal, ogr, osr\n",
        "import geopandas as gpd\n",
        "from shapely.geometry import Polygon\n",
        "import rasterio as rio\n",
        "path_osgeo_utils= \"/usr/local/lib/python3.10/dist-packages/osgeo_utils\" # defines path to gdal_retile.py"
      ]
    },
    {
      "cell_type": "code",
      "execution_count": null,
      "metadata": {
        "id": "Gn44NN6Kfvfh",
        "colab": {
          "base_uri": "https://localhost:8080/"
        },
        "outputId": "423d8bd5-29d4-473b-cfb7-52bee0dbd58d"
      },
      "outputs": [
        {
          "output_type": "stream",
          "name": "stdout",
          "text": [
            "Mounted at /content/drive\n"
          ]
        }
      ],
      "source": [
        "# mount google drive\n",
        "from google.colab import drive\n",
        "drive.mount('/content/drive')"
      ]
    },
    {
      "cell_type": "markdown",
      "source": [
        "# Only related to the report: code for reading how many annotations were used in training and testing\n",
        "\n",
        "This was checked here in order to write the home exercise report, and was unfortunately not checked earlier in the deep learning process."
      ],
      "metadata": {
        "id": "a4P2NBXMCuKQ"
      }
    },
    {
      "cell_type": "code",
      "source": [
        "import pathlib\n",
        "desktop = pathlib.Path(\"/content/drive/MyDrive/NOVA_course_home_exercise/data/annotated_data/train/8/train/labels\")\n",
        "\n",
        "# .iterdir() produces a generator\n",
        "desktop.iterdir()"
      ],
      "metadata": {
        "id": "QcbnIwkWPenW"
      },
      "execution_count": null,
      "outputs": []
    },
    {
      "cell_type": "code",
      "source": [
        "odds = [0]"
      ],
      "metadata": {
        "id": "SPNIg7Z3Toxb"
      },
      "execution_count": null,
      "outputs": []
    },
    {
      "cell_type": "code",
      "source": [
        "print(odds)"
      ],
      "metadata": {
        "id": "LjhyHpNNVQWn"
      },
      "execution_count": null,
      "outputs": []
    },
    {
      "cell_type": "code",
      "source": [
        "for item in desktop.iterdir():\n",
        "    if item.is_file():\n",
        "        print(item)\n",
        "        with open(item, 'r') as fp:\n",
        "            x = len(fp.readlines())\n",
        "            odds += [x]\n",
        "            # print('Total lines:', x) # 8"
      ],
      "metadata": {
        "id": "q09qU6bLRAj7"
      },
      "execution_count": null,
      "outputs": []
    },
    {
      "cell_type": "code",
      "source": [
        "print(sum(odds))"
      ],
      "metadata": {
        "id": "hGjb5A4MUDca"
      },
      "execution_count": null,
      "outputs": []
    },
    {
      "cell_type": "code",
      "source": [
        "for item in desktop.iterdir():\n",
        "    if item.is_file():\n",
        "        print(item)"
      ],
      "metadata": {
        "id": "xZwQRf26RnQc"
      },
      "execution_count": null,
      "outputs": []
    },
    {
      "cell_type": "code",
      "source": [
        "for item in desktop.iterdir():\n",
        "    x = len(item.readlines())\n",
        "    print('Total lines:', x) # 8"
      ],
      "metadata": {
        "id": "muOeIvmPQihW"
      },
      "execution_count": null,
      "outputs": []
    },
    {
      "cell_type": "markdown",
      "source": [
        "I can see that the number of validation plots are more than what I would expect if the 70/30 train/val had been sucessful. Now I have already made a bunch of models and I am short on time and GPU so I will continue with the evaluation anyways."
      ],
      "metadata": {
        "id": "BYXYLBxbDEhg"
      }
    },
    {
      "cell_type": "markdown",
      "metadata": {
        "id": "_W8I4yuvO-tS"
      },
      "source": [
        "## 5.3 Write a function to do the tiling similarly to step 1 BUT with some overlap between the tiles"
      ]
    },
    {
      "cell_type": "code",
      "execution_count": null,
      "metadata": {
        "id": "Ocb7nDlcPJAv"
      },
      "outputs": [],
      "source": [
        "# Params:\n",
        "#   - input_ortho_path: path to orthophoto to predict on (\"/content/drive/MyDrive/NOVA_course_deep_learning/data/orthomosaics/test_data/krakstad_202304_sun.tif\")\n",
        "#   - footprints_path: path to multipolygon layer of tile footprints (\"/content/drive/MyDrive/NOVA_course_deep_learning/data/map_data/drone_acquisitions.geojson\")\n",
        "#   - tile_size_m: tile size in m\n",
        "#   - buffer_size_m= size of overlap area around each tile in m (used for removing boundary effects)\n",
        "# input_ortho_path=\n",
        "# footprints_path=\n",
        "\n",
        "def tile_orthomosaic(input_ortho_path,footprints_path, tile_size_m, buffer_size_m):\n",
        "  # Define path to data\n",
        "  path_data=\"/content/drive/MyDrive/NOVA_course_home_exercise/data\"\n",
        "\n",
        "  # read drone acquisition footprints\n",
        "  footprints= gpd.read_file(footprints_path)\n",
        "  # Get ortho name\n",
        "  ortho_name=os.path.splitext(os.path.basename(input_ortho_path)) [0]\n",
        "\n",
        "  # create output dir\n",
        "  output_tiles_dir=path_data+\"/tiles/\"+str(tile_size_m)+\"m_\"+ortho_name\n",
        "  if not os.path.exists(output_tiles_dir):\n",
        "    print(\"Creating output folder...\"+ output_tiles_dir)\n",
        "    os.makedirs(output_tiles_dir)\n",
        "\n",
        "  # get raster metadata\n",
        "  # Get pixel resolution (in meters) and tile size in pixels\n",
        "  src_ds = gdal.Open(input_ortho_path) # reads in the orthomosaic\n",
        "  _, xres, _, _, _, yres  = src_ds.GetGeoTransform() # get pixel size in meters\n",
        "  print(\"Ortho resolution: \"+str(round(xres,4))+\" m\")\n",
        "  # Get EPSG code\n",
        "  proj = osr.SpatialReference(wkt=src_ds.GetProjection())\n",
        "  EPSG_code= proj.GetAttrValue('AUTHORITY',1)\n",
        "  print(\"EPSG code: \"+str(EPSG_code))\n",
        "  # get number of bands\n",
        "  n_bands=src_ds.RasterCount\n",
        "  print(\"Number of bands: \"+str(n_bands))\n",
        "\n",
        "  # Compute tile and buffer size in pixels\n",
        "  tile_size_px= round(tile_size_m/abs(xres)) # calculate the tile size in pixels\n",
        "  buffer_size_px= round(buffer_size_m/abs(xres)) # calculate the buffer size in pixels\n",
        "  tileIndex_name=ortho_name+\"_tile_index\" # define name for output tile index shapefile\n",
        "\n",
        "  # Run gdal_retile.py using (can take some minutes)\n",
        "  command_retile = \"python \"+path_osgeo_utils+\"/gdal_retile.py -targetDir \" + output_tiles_dir + \" \" + input_ortho_path+ \" -overlap \" + str(buffer_size_px) + \" -ps \"+str(tile_size_px) + \" \" + str(tile_size_px) + \" -of GTiff -tileIndex \"+ tileIndex_name + \" -tileIndexField ID\"\n",
        "  print(os.popen(command_retile).read()) ################################################################### SWITCH THIS ONE FOR TILING #########################################\n",
        "\n",
        "  # cleanup tiles\n",
        "  footprint_ortho= footprints[footprints['filename']==ortho_name]\n",
        "  footprint_ortho_UU= footprint_ortho.geometry.unary_union\n",
        "  # Load tiles shapefile\n",
        "  tiles = gpd.read_file(output_tiles_dir+ \"/\"+ortho_name+\"_tile_index.shp\")\n",
        "  tiles= tiles.to_crs(EPSG_code)\n",
        "\n",
        "  # Select all tiles that are within the boundary polygon\n",
        "  tiles_in = tiles[tiles.geometry.within(footprint_ortho_UU)]\n",
        "\n",
        "  # Select all tiles that are not within the boundary polygon\n",
        "  tiles_out= tiles.loc[~tiles['ID'].isin(tiles_in['ID']) ]\n",
        "  print(str(len(tiles_out))+\" tiles to be deleted\")\n",
        "\n",
        "  # delete tiles that are not within the footprint\n",
        "  gtiffs_delete=[output_tiles_dir+ \"/\"+sub  for sub in tiles_out['ID']]\n",
        "  for f in gtiffs_delete:\n",
        "   if os.path.exists(f):\n",
        "     os.remove(f)\n",
        "\n",
        "\n",
        "\n"
      ]
    },
    {
      "cell_type": "markdown",
      "metadata": {
        "id": "L2Io2LoGRuSc"
      },
      "source": [
        "There is an overlap of 1 m with neighbouring tiles.\n",
        "\n",
        "![image.png](data:image/png;base64,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)\n",
        "\n",
        "The overlap is needed to avoid having artifacts in the predictions due to non-detection on the edges of the images."
      ]
    },
    {
      "cell_type": "code",
      "source": [
        "path_to_ortho_predict4\n",
        "# path_to_ortho_predict3"
      ],
      "metadata": {
        "colab": {
          "base_uri": "https://localhost:8080/",
          "height": 35
        },
        "id": "3ki80SowXV73",
        "outputId": "5dbfcd2f-37ef-491a-a9f4-c86d69b2d8ed"
      },
      "execution_count": null,
      "outputs": [
        {
          "output_type": "execute_result",
          "data": {
            "text/plain": [
              "'/content/drive/MyDrive/NOVA_course_home_exercise/data/orthomosaics/test_data/braatan_20230605_sun.tif'"
            ],
            "application/vnd.google.colaboratory.intrinsic+json": {
              "type": "string"
            }
          },
          "metadata": {},
          "execution_count": 12
        }
      ]
    },
    {
      "cell_type": "code",
      "execution_count": null,
      "metadata": {
        "id": "aBHW_MI6RtvA"
      },
      "outputs": [],
      "source": [
        "tile_orthomosaic(input_ortho_path=path_to_ortho_predict1,\n",
        "                 footprints_path= \"/content/drive/MyDrive/NOVA_course_home_exercise/data/map_data/drone_acquisitions.geojson\",\n",
        "                 tile_size_m=10, # this could be changed, but I will leave it as is as I have no reason to set any other value\n",
        "                 buffer_size_m=1) # this could also be changed, but I will leave it as it is\n",
        "\n",
        "tile_orthomosaic(input_ortho_path=path_to_ortho_predict2,\n",
        "                 footprints_path= \"/content/drive/MyDrive/NOVA_course_home_exercise/data/map_data/drone_acquisitions.geojson\",\n",
        "                 tile_size_m=10, # this could be changed, but I will leave it as is as I have no reason to set any other value\n",
        "                 buffer_size_m=1) # this could also be changed, but I will leave it as it is\n",
        "\n",
        "tile_orthomosaic(input_ortho_path=path_to_ortho_predict3,\n",
        "                 footprints_path= \"/content/drive/MyDrive/NOVA_course_home_exercise/data/map_data/drone_acquisitions.geojson\",\n",
        "                 tile_size_m=10, # this could be changed, but I will leave it as is as I have no reason to set any other value\n",
        "                 buffer_size_m=1) # this could also be changed, but I will leave it as it is\n",
        "\n",
        "tile_orthomosaic(input_ortho_path=path_to_ortho_predict4,\n",
        "                 footprints_path= \"/content/drive/MyDrive/NOVA_course_home_exercise/data/map_data/drone_acquisitions.geojson\",\n",
        "                 tile_size_m=10, # this could be changed, but I will leave it as is as I have no reason to set any other value\n",
        "                 buffer_size_m=1) # this could also be changed, but I will leave it as it is"
      ]
    },
    {
      "cell_type": "markdown",
      "metadata": {
        "id": "A6ixWi2if01c"
      },
      "source": [
        "## 5.4 Predict on the test data for ML metrics\n",
        "\n",
        "Regarding the arguments, here are some interesting ones:\n",
        "- `imgsz`  (default=640) image size to be fed to the model for inference. This should be the same size as it was fed to model training.\n",
        "- `conf`\t(default=0.25)\tobject confidence threshold for detection. I have defined this based on the the F1 curve in the trained model's folder:\n"
      ]
    },
    {
      "cell_type": "markdown",
      "metadata": {
        "id": "-gls0QwENA7w"
      },
      "source": [
        "- `save`\t(default=False)\tsave images with results\n",
        "- `save_txt`\t(default=False)\tsave results as .txt file\n",
        "- `save_conf`\t(default=False)\tsave results with confidence scores"
      ]
    },
    {
      "cell_type": "markdown",
      "source": [
        "The test data that we should use for the evaluation with ML metrics have already been tiled. I don't know if it has been tiled with an overlap, but I will assume so since only the tiles images are available in that folder."
      ],
      "metadata": {
        "id": "Fyocd_KjYT4K"
      }
    },
    {
      "cell_type": "code",
      "source": [
        "path_to_tiles_ML = path_to_tiles1=\"/content/drive/MyDrive/NOVA_course_home_exercise/data/annotated_data/test/images\""
      ],
      "metadata": {
        "id": "jpbyn_XnZ4qX"
      },
      "execution_count": null,
      "outputs": []
    },
    {
      "cell_type": "markdown",
      "source": [
        "## 5.4.1 Predict full model"
      ],
      "metadata": {
        "id": "cjSwXRU1RlPl"
      }
    },
    {
      "cell_type": "code",
      "execution_count": null,
      "metadata": {
        "id": "1JKnmqCOfzyS"
      },
      "outputs": [],
      "source": [
        "!yolo predict model=$path_to_model_full source=$path_to_tiles_ML imgsz=640 conf=0.220 project=$path_to_tiles_ML name=predict_tiles_ML save_txt=True save_conf=True save=True line_width=1"
      ]
    },
    {
      "cell_type": "markdown",
      "source": [
        "## 5.4.2 Predict small model"
      ],
      "metadata": {
        "id": "05pPpCuMTxzE"
      }
    },
    {
      "cell_type": "code",
      "source": [
        "!yolo predict model=$path_to_model_small source=$path_to_tiles_ML imgsz=1056 conf=0.471 project=$path_to_tiles_ML name=predict_tiles_ML_small save_txt=True save_conf=True save=True line_width=1"
      ],
      "metadata": {
        "id": "rd16WHs1awFP"
      },
      "execution_count": null,
      "outputs": []
    },
    {
      "cell_type": "markdown",
      "source": [
        "# 5.5 Predict on test data for remote sensing metrics"
      ],
      "metadata": {
        "id": "nnaBfceQT3Ij"
      }
    },
    {
      "cell_type": "markdown",
      "source": [
        "## 5.5.1 Predict full model"
      ],
      "metadata": {
        "id": "C9yFn49HYzcT"
      }
    },
    {
      "cell_type": "code",
      "source": [
        "path_to_tiles4"
      ],
      "metadata": {
        "colab": {
          "base_uri": "https://localhost:8080/",
          "height": 35
        },
        "id": "WAIh-Lp-fTOW",
        "outputId": "c01d1961-0b80-47d6-b7ca-f1abe72b90ef"
      },
      "execution_count": null,
      "outputs": [
        {
          "output_type": "execute_result",
          "data": {
            "text/plain": [
              "'/content/drive/MyDrive/NOVA_course_home_exercise/data/tiles/10m_braatan_40m_20230605_sun'"
            ],
            "application/vnd.google.colaboratory.intrinsic+json": {
              "type": "string"
            }
          },
          "metadata": {},
          "execution_count": 26
        }
      ]
    },
    {
      "cell_type": "code",
      "source": [
        "# predict on test area 1\n",
        "!yolo predict model=$path_to_model_full source=$path_to_tiles1 imgsz=640 conf=0.220 project=$path_to_tiles1 name=predict_tiles save_txt=True save_conf=True save=True line_width=1\n",
        "# predict on test area 2\n",
        "!yolo predict model=$path_to_model_full source=$path_to_tiles2 imgsz=640 conf=0.220 project=$path_to_tiles2 name=predict_tiles save_txt=True save_conf=True save=True line_width=1\n",
        "# predict on test area 3\n",
        "!yolo predict model=$path_to_model_full source=$path_to_tiles3 imgsz=640 conf=0.220 project=$path_to_tiles3 name=predict_tiles save_txt=True save_conf=True save=True line_width=1\n",
        "# predict on test area 4\n",
        "!yolo predict model=$path_to_model_full source=$path_to_tiles4 imgsz=640 conf=0.220 project=$path_to_tiles4 name=predict_tiles save_txt=True save_conf=True save=True line_width=1"
      ],
      "metadata": {
        "id": "U9Mpy0ygYx7t"
      },
      "execution_count": null,
      "outputs": []
    },
    {
      "cell_type": "markdown",
      "source": [
        "## 5.5.2 Predict small model"
      ],
      "metadata": {
        "id": "Dbx5wod1Y3nB"
      }
    },
    {
      "cell_type": "code",
      "source": [
        "# predict on test area 1\n",
        "!yolo predict model=$path_to_model_small source=$path_to_tiles1 imgsz=1056 conf=0.471 project=$path_to_tiles1 name=predict_tiles_small save_txt=True save_conf=True save=True line_width=1\n",
        "# predict on test area 2\n",
        "!yolo predict model=$path_to_model_small source=$path_to_tiles2 imgsz=1056 conf=0.471 project=$path_to_tiles2 name=predict_tiles_small save_txt=True save_conf=True save=True line_width=1\n",
        "# predict on test area 3\n",
        "!yolo predict model=$path_to_model_small source=$path_to_tiles3 imgsz=1056 conf=0.471 project=$path_to_tiles3 name=predict_tiles_small save_txt=True save_conf=True save=True line_width=1\n",
        "# predict on test area 4\n",
        "!yolo predict model=$path_to_model_small source=$path_to_tiles4 imgsz=1056 conf=0.471 project=$path_to_tiles4 name=predict_tiles_small save_txt=True save_conf=True save=True line_width=1"
      ],
      "metadata": {
        "id": "IKTaiTbZY6oT"
      },
      "execution_count": null,
      "outputs": []
    },
    {
      "cell_type": "markdown",
      "metadata": {
        "id": "T7r3VhmoRO43"
      },
      "source": [
        "# Now I will convert the predictions from image to map space in postprocessing"
      ]
    }
  ],
  "metadata": {
    "colab": {
      "provenance": [],
      "include_colab_link": true
    },
    "kernelspec": {
      "display_name": "Python 3",
      "name": "python3"
    },
    "language_info": {
      "name": "python"
    }
  },
  "nbformat": 4,
  "nbformat_minor": 0
}